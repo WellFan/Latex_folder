{
 "cells": [
  {
   "cell_type": "code",
   "execution_count": 192,
   "metadata": {},
   "outputs": [],
   "source": [
    "import numpy as np\n",
    "import matplotlib.pyplot as plt\n",
    "import pandas as pd\n",
    "from scipy.stats import skew, kurtosis, jarque_bera\n",
    "from statsmodels.tsa.stattools import adfuller\n",
    "from arch.unitroot import PhillipsPerron"
   ]
  },
  {
   "cell_type": "code",
   "execution_count": 166,
   "metadata": {},
   "outputs": [
    {
     "data": {
      "text/html": [
       "<div>\n",
       "<style scoped>\n",
       "    .dataframe tbody tr th:only-of-type {\n",
       "        vertical-align: middle;\n",
       "    }\n",
       "\n",
       "    .dataframe tbody tr th {\n",
       "        vertical-align: top;\n",
       "    }\n",
       "\n",
       "    .dataframe thead th {\n",
       "        text-align: right;\n",
       "    }\n",
       "</style>\n",
       "<table border=\"1\" class=\"dataframe\">\n",
       "  <thead>\n",
       "    <tr style=\"text-align: right;\">\n",
       "      <th></th>\n",
       "      <th>OMR3M</th>\n",
       "      <th>BHD3M</th>\n",
       "      <th>KWD3M</th>\n",
       "      <th>QAR3M</th>\n",
       "      <th>SAR3M</th>\n",
       "      <th>AED3M</th>\n",
       "      <th>EUR3M</th>\n",
       "      <th>EIBO3M</th>\n",
       "      <th>Gold</th>\n",
       "      <th>Oil</th>\n",
       "      <th>MSCI EM</th>\n",
       "      <th>SPX</th>\n",
       "      <th>USDL3M</th>\n",
       "      <th>GAS</th>\n",
       "    </tr>\n",
       "  </thead>\n",
       "  <tbody>\n",
       "    <tr>\n",
       "      <th>count</th>\n",
       "      <td>3914.000000</td>\n",
       "      <td>3914.000000</td>\n",
       "      <td>3914.000000</td>\n",
       "      <td>3914.000000</td>\n",
       "      <td>3914.000000</td>\n",
       "      <td>3914.000000</td>\n",
       "      <td>3914.000000</td>\n",
       "      <td>3914.000000</td>\n",
       "      <td>3914.000000</td>\n",
       "      <td>3914.000000</td>\n",
       "      <td>3914.000000</td>\n",
       "      <td>3914.000000</td>\n",
       "      <td>3914.000000</td>\n",
       "      <td>3914.000000</td>\n",
       "    </tr>\n",
       "    <tr>\n",
       "      <th>mean</th>\n",
       "      <td>0.388481</td>\n",
       "      <td>0.380020</td>\n",
       "      <td>0.297868</td>\n",
       "      <td>3.648441</td>\n",
       "      <td>3.752079</td>\n",
       "      <td>3.673406</td>\n",
       "      <td>1.208145</td>\n",
       "      <td>1.845811</td>\n",
       "      <td>1480.835984</td>\n",
       "      <td>71.887241</td>\n",
       "      <td>1020.410507</td>\n",
       "      <td>2532.565324</td>\n",
       "      <td>0.012992</td>\n",
       "      <td>3.429253</td>\n",
       "    </tr>\n",
       "    <tr>\n",
       "      <th>std</th>\n",
       "      <td>0.006969</td>\n",
       "      <td>0.002022</td>\n",
       "      <td>0.011122</td>\n",
       "      <td>0.018029</td>\n",
       "      <td>0.003757</td>\n",
       "      <td>0.000974</td>\n",
       "      <td>0.120243</td>\n",
       "      <td>1.319460</td>\n",
       "      <td>300.635917</td>\n",
       "      <td>21.439877</td>\n",
       "      <td>126.902210</td>\n",
       "      <td>1150.320374</td>\n",
       "      <td>0.015958</td>\n",
       "      <td>1.269002</td>\n",
       "    </tr>\n",
       "    <tr>\n",
       "      <th>min</th>\n",
       "      <td>0.376000</td>\n",
       "      <td>0.375000</td>\n",
       "      <td>0.273900</td>\n",
       "      <td>3.616850</td>\n",
       "      <td>3.744700</td>\n",
       "      <td>3.664250</td>\n",
       "      <td>0.968440</td>\n",
       "      <td>0.252600</td>\n",
       "      <td>908.500000</td>\n",
       "      <td>-37.630000</td>\n",
       "      <td>688.519000</td>\n",
       "      <td>879.130000</td>\n",
       "      <td>0.001141</td>\n",
       "      <td>1.190500</td>\n",
       "    </tr>\n",
       "    <tr>\n",
       "      <th>25%</th>\n",
       "      <td>0.384060</td>\n",
       "      <td>0.378420</td>\n",
       "      <td>0.290275</td>\n",
       "      <td>3.642000</td>\n",
       "      <td>3.750025</td>\n",
       "      <td>3.672875</td>\n",
       "      <td>1.109440</td>\n",
       "      <td>0.828860</td>\n",
       "      <td>1241.950000</td>\n",
       "      <td>53.270000</td>\n",
       "      <td>952.120250</td>\n",
       "      <td>1512.382500</td>\n",
       "      <td>0.002681</td>\n",
       "      <td>2.621000</td>\n",
       "    </tr>\n",
       "    <tr>\n",
       "      <th>50%</th>\n",
       "      <td>0.386580</td>\n",
       "      <td>0.379790</td>\n",
       "      <td>0.298035</td>\n",
       "      <td>3.643600</td>\n",
       "      <td>3.750750</td>\n",
       "      <td>3.673312</td>\n",
       "      <td>1.178455</td>\n",
       "      <td>1.513330</td>\n",
       "      <td>1366.500000</td>\n",
       "      <td>72.640000</td>\n",
       "      <td>1005.627000</td>\n",
       "      <td>2186.320000</td>\n",
       "      <td>0.004679</td>\n",
       "      <td>3.061500</td>\n",
       "    </tr>\n",
       "    <tr>\n",
       "      <th>75%</th>\n",
       "      <td>0.390977</td>\n",
       "      <td>0.381650</td>\n",
       "      <td>0.307685</td>\n",
       "      <td>3.648548</td>\n",
       "      <td>3.753300</td>\n",
       "      <td>3.674000</td>\n",
       "      <td>1.312795</td>\n",
       "      <td>2.342500</td>\n",
       "      <td>1746.187500</td>\n",
       "      <td>89.490000</td>\n",
       "      <td>1079.393250</td>\n",
       "      <td>3344.577500</td>\n",
       "      <td>0.018944</td>\n",
       "      <td>4.022250</td>\n",
       "    </tr>\n",
       "    <tr>\n",
       "      <th>max</th>\n",
       "      <td>0.435130</td>\n",
       "      <td>0.386150</td>\n",
       "      <td>0.323950</td>\n",
       "      <td>3.864650</td>\n",
       "      <td>3.778050</td>\n",
       "      <td>3.677300</td>\n",
       "      <td>1.508790</td>\n",
       "      <td>5.602640</td>\n",
       "      <td>2401.500000</td>\n",
       "      <td>123.700000</td>\n",
       "      <td>1444.930000</td>\n",
       "      <td>5254.350000</td>\n",
       "      <td>0.056874</td>\n",
       "      <td>9.680000</td>\n",
       "    </tr>\n",
       "  </tbody>\n",
       "</table>\n",
       "</div>"
      ],
      "text/plain": [
       "             OMR3M        BHD3M        KWD3M        QAR3M        SAR3M  \\\n",
       "count  3914.000000  3914.000000  3914.000000  3914.000000  3914.000000   \n",
       "mean      0.388481     0.380020     0.297868     3.648441     3.752079   \n",
       "std       0.006969     0.002022     0.011122     0.018029     0.003757   \n",
       "min       0.376000     0.375000     0.273900     3.616850     3.744700   \n",
       "25%       0.384060     0.378420     0.290275     3.642000     3.750025   \n",
       "50%       0.386580     0.379790     0.298035     3.643600     3.750750   \n",
       "75%       0.390977     0.381650     0.307685     3.648548     3.753300   \n",
       "max       0.435130     0.386150     0.323950     3.864650     3.778050   \n",
       "\n",
       "             AED3M        EUR3M       EIBO3M         Gold          Oil  \\\n",
       "count  3914.000000  3914.000000  3914.000000  3914.000000  3914.000000   \n",
       "mean      3.673406     1.208145     1.845811  1480.835984    71.887241   \n",
       "std       0.000974     0.120243     1.319460   300.635917    21.439877   \n",
       "min       3.664250     0.968440     0.252600   908.500000   -37.630000   \n",
       "25%       3.672875     1.109440     0.828860  1241.950000    53.270000   \n",
       "50%       3.673312     1.178455     1.513330  1366.500000    72.640000   \n",
       "75%       3.674000     1.312795     2.342500  1746.187500    89.490000   \n",
       "max       3.677300     1.508790     5.602640  2401.500000   123.700000   \n",
       "\n",
       "           MSCI EM          SPX       USDL3M          GAS  \n",
       "count  3914.000000  3914.000000  3914.000000  3914.000000  \n",
       "mean   1020.410507  2532.565324     0.012992     3.429253  \n",
       "std     126.902210  1150.320374     0.015958     1.269002  \n",
       "min     688.519000   879.130000     0.001141     1.190500  \n",
       "25%     952.120250  1512.382500     0.002681     2.621000  \n",
       "50%    1005.627000  2186.320000     0.004679     3.061500  \n",
       "75%    1079.393250  3344.577500     0.018944     4.022250  \n",
       "max    1444.930000  5254.350000     0.056874     9.680000  "
      ]
     },
     "execution_count": 166,
     "metadata": {},
     "output_type": "execute_result"
    }
   ],
   "source": [
    "df = pd.read_csv('dataset.csv')\n",
    "df.describe()"
   ]
  },
  {
   "cell_type": "code",
   "execution_count": 167,
   "metadata": {},
   "outputs": [
    {
     "data": {
      "text/html": [
       "<div>\n",
       "<style scoped>\n",
       "    .dataframe tbody tr th:only-of-type {\n",
       "        vertical-align: middle;\n",
       "    }\n",
       "\n",
       "    .dataframe tbody tr th {\n",
       "        vertical-align: top;\n",
       "    }\n",
       "\n",
       "    .dataframe thead th {\n",
       "        text-align: right;\n",
       "    }\n",
       "</style>\n",
       "<table border=\"1\" class=\"dataframe\">\n",
       "  <thead>\n",
       "    <tr style=\"text-align: right;\">\n",
       "      <th></th>\n",
       "      <th>Date</th>\n",
       "      <th>OMR3M</th>\n",
       "      <th>BHD3M</th>\n",
       "      <th>KWD3M</th>\n",
       "      <th>QAR3M</th>\n",
       "      <th>SAR3M</th>\n",
       "      <th>AED3M</th>\n",
       "      <th>EUR3M</th>\n",
       "      <th>EIBO3M</th>\n",
       "      <th>Gold</th>\n",
       "      <th>Oil</th>\n",
       "      <th>MSCI EM</th>\n",
       "      <th>SPX</th>\n",
       "      <th>USDL3M</th>\n",
       "      <th>GAS</th>\n",
       "    </tr>\n",
       "  </thead>\n",
       "  <tbody>\n",
       "    <tr>\n",
       "      <th>2852</th>\n",
       "      <td>2020/4/20</td>\n",
       "      <td>0.42025</td>\n",
       "      <td>0.37705</td>\n",
       "      <td>0.3179</td>\n",
       "      <td>3.6542</td>\n",
       "      <td>3.75725</td>\n",
       "      <td>3.674875</td>\n",
       "      <td>1.09061</td>\n",
       "      <td>1.57708</td>\n",
       "      <td>1686.2</td>\n",
       "      <td>-37.63</td>\n",
       "      <td>899.326</td>\n",
       "      <td>2823.16</td>\n",
       "      <td>0.010976</td>\n",
       "      <td>1.924</td>\n",
       "    </tr>\n",
       "  </tbody>\n",
       "</table>\n",
       "</div>"
      ],
      "text/plain": [
       "           Date    OMR3M    BHD3M   KWD3M   QAR3M    SAR3M     AED3M    EUR3M  \\\n",
       "2852  2020/4/20  0.42025  0.37705  0.3179  3.6542  3.75725  3.674875  1.09061   \n",
       "\n",
       "       EIBO3M    Gold    Oil  MSCI EM      SPX    USDL3M    GAS  \n",
       "2852  1.57708  1686.2 -37.63  899.326  2823.16  0.010976  1.924  "
      ]
     },
     "execution_count": 167,
     "metadata": {},
     "output_type": "execute_result"
    }
   ],
   "source": [
    "df.loc[df['Oil'] < 0]"
   ]
  },
  {
   "cell_type": "code",
   "execution_count": 168,
   "metadata": {},
   "outputs": [
    {
     "data": {
      "text/plain": [
       "2851    18.27\n",
       "2852   -37.63\n",
       "2853     8.91\n",
       "Name: Oil, dtype: float64"
      ]
     },
     "execution_count": 168,
     "metadata": {},
     "output_type": "execute_result"
    }
   ],
   "source": [
    "df.iloc[[2851,2852,2853],10]"
   ]
  },
  {
   "cell_type": "code",
   "execution_count": 169,
   "metadata": {},
   "outputs": [],
   "source": [
    "rate2852 = (df.iloc[2852,10] - df.iloc[2851,10]) / df.iloc[2851,10]*100\n",
    "rate2853 = (df.iloc[2853,10] - df.iloc[2852,10]) / df.iloc[2852,10]*-100"
   ]
  },
  {
   "cell_type": "code",
   "execution_count": 170,
   "metadata": {},
   "outputs": [
    {
     "name": "stderr",
     "output_type": "stream",
     "text": [
      "c:\\Users\\entre\\anaconda3\\envs\\ML\\lib\\site-packages\\pandas\\core\\arraylike.py:396: RuntimeWarning: invalid value encountered in log\n",
      "  result = getattr(ufunc, method)(*inputs, **kwargs)\n"
     ]
    },
    {
     "data": {
      "text/plain": [
       "Date       0\n",
       "OMR3M      0\n",
       "BHD3M      0\n",
       "KWD3M      0\n",
       "QAR3M      0\n",
       "SAR3M      0\n",
       "AED3M      0\n",
       "EUR3M      0\n",
       "EIBO3M     0\n",
       "Gold       0\n",
       "Oil        0\n",
       "MSCI EM    0\n",
       "SPX        0\n",
       "USDL3M     0\n",
       "GAS        0\n",
       "dtype: int64"
      ]
     },
     "execution_count": 170,
     "metadata": {},
     "output_type": "execute_result"
    }
   ],
   "source": [
    "df['Date'] = pd.to_datetime(df['Date'])\n",
    "for column in df.columns.tolist()[1:]:\n",
    "    df[column] = (np.log(df[column]) - np.log(df[column].shift(1)))*100\n",
    "df.iloc[2852, 10] = rate2852\n",
    "df.iloc[2853, 10] = rate2853\n",
    "df = df.iloc[1:,:]\n",
    "df.isna().sum()"
   ]
  },
  {
   "cell_type": "code",
   "execution_count": 171,
   "metadata": {},
   "outputs": [
    {
     "data": {
      "text/plain": [
       "['OMR3M',\n",
       " 'BHD3M',\n",
       " 'KWD3M',\n",
       " 'QAR3M',\n",
       " 'SAR3M',\n",
       " 'AED3M',\n",
       " 'EUR3M',\n",
       " 'EIBO3M',\n",
       " 'Gold',\n",
       " 'Oil',\n",
       " 'MSCI EM',\n",
       " 'SPX',\n",
       " 'USDL3M',\n",
       " 'GAS']"
      ]
     },
     "execution_count": 171,
     "metadata": {},
     "output_type": "execute_result"
    }
   ],
   "source": [
    "df.columns.tolist()[1:]"
   ]
  },
  {
   "cell_type": "code",
   "execution_count": 179,
   "metadata": {},
   "outputs": [],
   "source": [
    "columns=['Name', 'Mean', 'Maximun', 'Minimun', 'Std. Dev.', 'Skewness', 'Kurtosis', 'Jarque-Bera', 'ADF', 'PP']\n",
    "ls = []\n",
    "for i, column in enumerate(df.columns.tolist()[1:]):\n",
    "    ls.append([column, df[column].mean(), df[column].max(), df[column].min(), df[column].std(), skew(df[column]), kurtosis(df[column]), jarque_bera(df[column])[1], adfuller(df[column])[1], PhillipsPerron(df[column]).pvalue])\n",
    "df_stats = pd.DataFrame.from_records(ls, columns=columns)"
   ]
  },
  {
   "cell_type": "code",
   "execution_count": 189,
   "metadata": {},
   "outputs": [
    {
     "name": "stdout",
     "output_type": "stream",
     "text": [
      "            OMR3M     BHD3M     KWD3M     QAR3M     SAR3M     AED3M     EUR3M  \\\n",
      "OMR3M    1.000000  0.064175 -0.004342 -0.032026  0.075297  0.073529  0.007711   \n",
      "BHD3M    0.064175  1.000000  0.048295  0.014369  0.038707  0.018838  0.010918   \n",
      "KWD3M   -0.004342  0.048295  1.000000  0.021553  0.016946  0.087568 -0.202587   \n",
      "QAR3M   -0.032026  0.014369  0.021553  1.000000  0.024471  0.002695  0.010328   \n",
      "SAR3M    0.075297  0.038707  0.016946  0.024471  1.000000  0.064088  0.000726   \n",
      "AED3M    0.073529  0.018838  0.087568  0.002695  0.064088  1.000000 -0.025512   \n",
      "EUR3M    0.007711  0.010918 -0.202587  0.010328  0.000726 -0.025512  1.000000   \n",
      "EIBO3M  -0.011979 -0.014450 -0.010113 -0.013793  0.013951 -0.004707  0.021393   \n",
      "Gold     0.037293  0.004764 -0.084953  0.002930  0.003426 -0.016769  0.363884   \n",
      "Oil      0.058072  0.036930 -0.018069 -0.002890  0.082453  0.014696  0.049036   \n",
      "MSCI EM -0.000011 -0.000820 -0.064095 -0.016388 -0.003269  0.012727  0.292853   \n",
      "SPX      0.047305 -0.009077 -0.067865 -0.029824  0.027595 -0.007703  0.162321   \n",
      "USDL3M   0.042462 -0.031377 -0.007134 -0.033063 -0.000350 -0.014125 -0.070792   \n",
      "GAS     -0.012172  0.004382 -0.025919  0.024487  0.017694 -0.015924  0.024572   \n",
      "\n",
      "           EIBO3M      Gold       Oil   MSCI EM       SPX    USDL3M       GAS  \n",
      "OMR3M   -0.011979  0.037293  0.058072 -0.000011  0.047305  0.042462 -0.012172  \n",
      "BHD3M   -0.014450  0.004764  0.036930 -0.000820 -0.009077 -0.031377  0.004382  \n",
      "KWD3M   -0.010113 -0.084953 -0.018069 -0.064095 -0.067865 -0.007134 -0.025919  \n",
      "QAR3M   -0.013793  0.002930 -0.002890 -0.016388 -0.029824 -0.033063  0.024487  \n",
      "SAR3M    0.013951  0.003426  0.082453 -0.003269  0.027595 -0.000350  0.017694  \n",
      "AED3M   -0.004707 -0.016769  0.014696  0.012727 -0.007703 -0.014125 -0.015924  \n",
      "EUR3M    0.021393  0.363884  0.049036  0.292853  0.162321 -0.070792  0.024572  \n",
      "EIBO3M   1.000000  0.023088 -0.000047 -0.004832 -0.009381 -0.018465 -0.034489  \n",
      "Gold     0.023088  1.000000  0.045790  0.210766  0.068460 -0.078611  0.000870  \n",
      "Oil     -0.000047  0.045790  1.000000  0.100368  0.138281 -0.023823  0.005898  \n",
      "MSCI EM -0.004832  0.210766  0.100368  1.000000  0.453554 -0.041639  0.042040  \n",
      "SPX     -0.009381  0.068460  0.138281  0.453554  1.000000  0.009709  0.070901  \n",
      "USDL3M  -0.018465 -0.078611 -0.023823 -0.041639  0.009709  1.000000 -0.025984  \n",
      "GAS     -0.034489  0.000870  0.005898  0.042040  0.070901 -0.025984  1.000000  \n"
     ]
    }
   ],
   "source": [
    "cor_matrix = df.iloc[:,1:].corr()\n",
    "print(cor_matrix)"
   ]
  },
  {
   "cell_type": "code",
   "execution_count": 188,
   "metadata": {},
   "outputs": [],
   "source": [
    "latex_output = df_stats.to_latex(index=False)\n",
    "# Write the LaTeX output to a file\n",
    "with open('summary.tex', 'w') as f:\n",
    "    f.write(latex_output)"
   ]
  },
  {
   "cell_type": "code",
   "execution_count": 191,
   "metadata": {},
   "outputs": [],
   "source": [
    "latex_output = cor_matrix.to_latex()\n",
    "# Write the LaTeX output to a file\n",
    "with open('cor.tex', 'w') as f:\n",
    "    f.write(latex_output)"
   ]
  }
 ],
 "metadata": {
  "kernelspec": {
   "display_name": "ML",
   "language": "python",
   "name": "python3"
  },
  "language_info": {
   "codemirror_mode": {
    "name": "ipython",
    "version": 3
   },
   "file_extension": ".py",
   "mimetype": "text/x-python",
   "name": "python",
   "nbconvert_exporter": "python",
   "pygments_lexer": "ipython3",
   "version": "3.9.18"
  }
 },
 "nbformat": 4,
 "nbformat_minor": 2
}
